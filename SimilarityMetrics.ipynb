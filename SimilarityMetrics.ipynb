{
 "cells": [
  {
   "cell_type": "code",
   "execution_count": null,
   "id": "initial_id",
   "metadata": {
    "collapsed": true
   },
   "outputs": [],
   "source": [
    "import networkx as nx\n",
    "import matplotlib.pyplot as plt\n",
    "\n"
   ]
  },
  {
   "cell_type": "markdown",
   "source": [
    "## Betweenes Centrality "
   ],
   "metadata": {
    "collapsed": false
   },
   "id": "71b87a9f54801647"
  },
  {
   "cell_type": "code",
   "execution_count": null,
   "outputs": [],
   "source": [
    "G = nx.Graph()\n",
    "H = nx.Graph()\n",
    "\n",
    "G.add_nodes_from([\n",
    "  (\"A\", {\"color\": \"blue\", \"size\": 250}),\n",
    "  (\"B\", {\"color\": \"yellow\", \"size\": 400}),\n",
    "  (\"C\", {\"color\": \"orange\", \"size\": 150}),\n",
    "  (\"D\", {\"color\": \"yellow\", \"size\": 400}),\n",
    "  (\"E\", {\"color\": \"orange\", \"size\": 150}),\n",
    "  (\"F\", {\"color\": \"red\", \"size\": 600})\n",
    "])\n",
    "\n",
    "G.add_edges_from([\n",
    "  (\"A\", \"F\"),\n",
    "  (\"F\", \"E\"),\n",
    "  (\"F\", \"B\"),\n",
    "  (\"B\", \"C\"),\n",
    "  (\"E\", \"C\"),\n",
    "  (\"B\", \"E\"),\n",
    "  (\"E\", \"D\")\n",
    "])\n",
    "\n",
    "H.add_nodes_from([\n",
    "  (\"A\", {\"color\": \"blue\", \"size\": 250}),\n",
    "  (\"B\", {\"color\": \"yellow\", \"size\": 400}),\n",
    "  (\"C\", {\"color\": \"orange\", \"size\": 150}),\n",
    "  (\"D\", {\"color\": \"yellow\", \"size\": 400}),\n",
    "  (\"E\", {\"color\": \"orange\", \"size\": 150}),\n",
    "  (\"F\", {\"color\": \"red\", \"size\": 600})\n",
    "])\n",
    "\n",
    "H.add_edges_from([\n",
    "  (\"A\", \"F\"),\n",
    "  (\"F\", \"E\"),\n",
    "  (\"F\", \"B\"),\n",
    "  (\"D\", \"C\"),\n",
    "  (\"E\", \"C\"),\n",
    "  (\"B\", \"E\"),\n",
    "  (\"E\", \"D\")\n",
    "])\n",
    "\n",
    "node_colors = nx.get_node_attributes(G, \"color\").values()\n",
    "colors = list(node_colors)\n",
    "node_sizes = nx.get_node_attributes(G, \"size\").values()\n",
    "sizes = list(node_sizes)\n",
    "\n",
    "edge_indices = [(source, target) for source, target in G.edges]\n",
    "\n",
    "print(edge_indices)\n",
    "print(nx.adjacency_matrix(G).toarray())\n",
    "\n",
    "nx.draw(G, with_labels=True, node_color=colors, node_size=sizes)\n",
    "plt.show()\n",
    "nx.draw(H, with_labels=True)\n",
    "plt.show()\n",
    "\n",
    "\n",
    "betweenness = nx.betweenness_centrality(G)\n",
    "\n",
    "for node, centrality in betweenness.items():\n",
    "    print(\"Node:\", node, \"Centrality:\", centrality)"
   ],
   "metadata": {
    "collapsed": false
   },
   "id": "a877fc7d596b2ec7"
  },
  {
   "cell_type": "markdown",
   "source": [
    "- Normalized mutual information\n",
    "*Danon L, Diaz-Guilera A, Duch J, Arenas A (2005) Comparing community structure identification. J Stat Mech: Theory Exp 2005(09):P09008*\n"
   ],
   "metadata": {
    "collapsed": false
   },
   "id": "9ebc2384a76edea4"
  },
  {
   "cell_type": "code",
   "execution_count": null,
   "outputs": [],
   "source": [],
   "metadata": {
    "collapsed": false
   },
   "id": "78f727c044c1baf"
  }
 ],
 "metadata": {
  "kernelspec": {
   "display_name": "Python 3",
   "language": "python",
   "name": "python3"
  },
  "language_info": {
   "codemirror_mode": {
    "name": "ipython",
    "version": 2
   },
   "file_extension": ".py",
   "mimetype": "text/x-python",
   "name": "python",
   "nbconvert_exporter": "python",
   "pygments_lexer": "ipython2",
   "version": "2.7.6"
  }
 },
 "nbformat": 4,
 "nbformat_minor": 5
}
