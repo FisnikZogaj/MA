{
 "cells": [
  {
   "cell_type": "code",
   "id": "initial_id",
   "metadata": {
    "collapsed": true,
    "ExecuteTime": {
     "end_time": "2024-09-04T10:42:30.150264Z",
     "start_time": "2024-09-04T10:42:30.121267Z"
    }
   },
   "source": [
    "from ParametricGraphModels.ADC_SBM import ADC_SBM, from_config\n",
    "from config import Scenarios\n",
    "import numpy as np\n",
    "from tqdm import tqdm\n",
    "from matplotlib import pyplot as plt"
   ],
   "outputs": [],
   "execution_count": 8
  },
  {
   "metadata": {
    "ExecuteTime": {
     "end_time": "2024-09-04T10:41:17.824725Z",
     "start_time": "2024-09-04T10:39:59.124559Z"
    }
   },
   "cell_type": "code",
   "source": [
    "n_iter = 30\n",
    "res = np.zeros(n_iter).reshape(-1)\n",
    "for i in tqdm(range(0,30)):\n",
    "    g = from_config(Scenarios.community_relevant_heterophilic, i)\n",
    "    res[i] = g.edge_homophily()\n",
    "\n",
    "res"
   ],
   "id": "a11495610ec2e8a0",
   "outputs": [
    {
     "name": "stderr",
     "output_type": "stream",
     "text": [
      "100%|██████████| 30/30 [01:18<00:00,  2.62s/it]\n"
     ]
    },
    {
     "data": {
      "text/plain": [
       "array([0.00581951, 0.00644855, 0.00616474, 0.00687369, 0.00682607,\n",
       "       0.00670944, 0.00746222, 0.00651213, 0.00762708, 0.00845839,\n",
       "       0.0068084 , 0.00760095, 0.0066189 , 0.00636583, 0.00667314,\n",
       "       0.0063205 , 0.00649082, 0.00651052, 0.00605311, 0.00657326,\n",
       "       0.00695672, 0.00619997, 0.00960708, 0.00670648, 0.00618242,\n",
       "       0.00886964, 0.00739768, 0.00634321, 0.00637844, 0.00677175])"
      ]
     },
     "execution_count": 6,
     "metadata": {},
     "output_type": "execute_result"
    }
   ],
   "execution_count": 6
  },
  {
   "metadata": {
    "ExecuteTime": {
     "end_time": "2024-09-04T10:42:33.098679Z",
     "start_time": "2024-09-04T10:42:32.286689Z"
    }
   },
   "cell_type": "code",
   "source": "plt.hist(res)",
   "id": "649fb0d48478dc42",
   "outputs": [
    {
     "data": {
      "text/plain": [
       "(array([ 4., 10.,  8.,  1.,  4.,  0.,  1.,  0.,  1.,  1.]),\n",
       " array([0.00581951, 0.00619826, 0.00657702, 0.00695578, 0.00733454,\n",
       "        0.00771329, 0.00809205, 0.00847081, 0.00884957, 0.00922832,\n",
       "        0.00960708]),\n",
       " <BarContainer object of 10 artists>)"
      ]
     },
     "execution_count": 9,
     "metadata": {},
     "output_type": "execute_result"
    },
    {
     "data": {
      "text/plain": [
       "<Figure size 640x480 with 1 Axes>"
      ],
      "image/png": "[encoded data removed]"
     },
     "metadata": {},
     "output_type": "display_data"
    }
   ],
   "execution_count": 9
  }
 ],
 "metadata": {
  "kernelspec": {
   "display_name": "Python 3",
   "language": "python",
   "name": "python3"
  },
  "language_info": {
   "codemirror_mode": {
    "name": "ipython",
    "version": 2
   },
   "file_extension": ".py",
   "mimetype": "text/x-python",
   "name": "python",
   "nbconvert_exporter": "python",
   "pygments_lexer": "ipython2",
   "version": "2.7.6"
  }
 },
 "nbformat": 4,
 "nbformat_minor": 5
}
