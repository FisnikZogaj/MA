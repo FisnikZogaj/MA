{
 "cells": [
  {
   "cell_type": "code",
   "execution_count": 85,
   "id": "initial_id",
   "metadata": {
    "collapsed": true,
    "ExecuteTime": {
     "end_time": "2024-05-07T15:27:49.517590700Z",
     "start_time": "2024-05-07T15:27:49.501831300Z"
    }
   },
   "outputs": [],
   "source": [
    "import pandas as pd\n",
    "import numpy as np\n",
    "import os\n",
    "import itertools\n",
    "from matplotlib import pyplot as plt\n",
    "\n",
    "cpapth = os.getcwd()"
   ]
  },
  {
   "cell_type": "code",
   "execution_count": 51,
   "outputs": [
    {
     "data": {
      "text/plain": "    experience_level                   job_title  salary_in_usd  \\\n0                 MI              Data Scientist          79833   \n1                 SE  Machine Learning Scientist         260000   \n2                 SE           Big Data Engineer         109024   \n3                 MI        Product Data Analyst          20000   \n4                 SE   Machine Learning Engineer         150000   \n..               ...                         ...            ...   \n602               SE               Data Engineer         154000   \n603               SE               Data Engineer         126000   \n604               SE                Data Analyst         129000   \n605               SE                Data Analyst         150000   \n606               MI                AI Scientist         200000   \n\n    employee_residence  remote_ratio company_location company_size  \n0                   DE             0               DE            L  \n1                   JP             0               JP            S  \n2                   GB            50               GB            M  \n3                   HN             0               HN            S  \n4                   US            50               US            L  \n..                 ...           ...              ...          ...  \n602                 US           100               US            M  \n603                 US           100               US            M  \n604                 US             0               US            M  \n605                 US           100               US            M  \n606                 IN           100               US            L  \n\n[607 rows x 7 columns]",
      "text/html": "<div>\n<style scoped>\n    .dataframe tbody tr th:only-of-type {\n        vertical-align: middle;\n    }\n\n    .dataframe tbody tr th {\n        vertical-align: top;\n    }\n\n    .dataframe thead th {\n        text-align: right;\n    }\n</style>\n<table border=\"1\" class=\"dataframe\">\n  <thead>\n    <tr style=\"text-align: right;\">\n      <th></th>\n      <th>experience_level</th>\n      <th>job_title</th>\n      <th>salary_in_usd</th>\n      <th>employee_residence</th>\n      <th>remote_ratio</th>\n      <th>company_location</th>\n      <th>company_size</th>\n    </tr>\n  </thead>\n  <tbody>\n    <tr>\n      <th>0</th>\n      <td>MI</td>\n      <td>Data Scientist</td>\n      <td>79833</td>\n      <td>DE</td>\n      <td>0</td>\n      <td>DE</td>\n      <td>L</td>\n    </tr>\n    <tr>\n      <th>1</th>\n      <td>SE</td>\n      <td>Machine Learning Scientist</td>\n      <td>260000</td>\n      <td>JP</td>\n      <td>0</td>\n      <td>JP</td>\n      <td>S</td>\n    </tr>\n    <tr>\n      <th>2</th>\n      <td>SE</td>\n      <td>Big Data Engineer</td>\n      <td>109024</td>\n      <td>GB</td>\n      <td>50</td>\n      <td>GB</td>\n      <td>M</td>\n    </tr>\n    <tr>\n      <th>3</th>\n      <td>MI</td>\n      <td>Product Data Analyst</td>\n      <td>20000</td>\n      <td>HN</td>\n      <td>0</td>\n      <td>HN</td>\n      <td>S</td>\n    </tr>\n    <tr>\n      <th>4</th>\n      <td>SE</td>\n      <td>Machine Learning Engineer</td>\n      <td>150000</td>\n      <td>US</td>\n      <td>50</td>\n      <td>US</td>\n      <td>L</td>\n    </tr>\n    <tr>\n      <th>...</th>\n      <td>...</td>\n      <td>...</td>\n      <td>...</td>\n      <td>...</td>\n      <td>...</td>\n      <td>...</td>\n      <td>...</td>\n    </tr>\n    <tr>\n      <th>602</th>\n      <td>SE</td>\n      <td>Data Engineer</td>\n      <td>154000</td>\n      <td>US</td>\n      <td>100</td>\n      <td>US</td>\n      <td>M</td>\n    </tr>\n    <tr>\n      <th>603</th>\n      <td>SE</td>\n      <td>Data Engineer</td>\n      <td>126000</td>\n      <td>US</td>\n      <td>100</td>\n      <td>US</td>\n      <td>M</td>\n    </tr>\n    <tr>\n      <th>604</th>\n      <td>SE</td>\n      <td>Data Analyst</td>\n      <td>129000</td>\n      <td>US</td>\n      <td>0</td>\n      <td>US</td>\n      <td>M</td>\n    </tr>\n    <tr>\n      <th>605</th>\n      <td>SE</td>\n      <td>Data Analyst</td>\n      <td>150000</td>\n      <td>US</td>\n      <td>100</td>\n      <td>US</td>\n      <td>M</td>\n    </tr>\n    <tr>\n      <th>606</th>\n      <td>MI</td>\n      <td>AI Scientist</td>\n      <td>200000</td>\n      <td>IN</td>\n      <td>100</td>\n      <td>US</td>\n      <td>L</td>\n    </tr>\n  </tbody>\n</table>\n<p>607 rows × 7 columns</p>\n</div>"
     },
     "execution_count": 51,
     "metadata": {},
     "output_type": "execute_result"
    }
   ],
   "source": [
    "# https://www.kaggle.com/datasets/ruchi798/data-science-job-salaries?select=ds_salaries.csv\n",
    "salaries = pd.read_csv(r\"Data/ds_salaries.csv\")\n",
    "salaries = salaries.drop(columns=[\"Unnamed: 0\", \"work_year\", \"employment_type\",\n",
    "                                  \"salary\", \"salary_currency\",])#.sample(n=100, random_state=32)\n",
    "salaries"
   ],
   "metadata": {
    "collapsed": false,
    "ExecuteTime": {
     "end_time": "2024-05-07T15:02:18.488915800Z",
     "start_time": "2024-05-07T15:02:18.403325700Z"
    }
   },
   "id": "c7c7f1b1a1668e5c"
  },
  {
   "cell_type": "code",
   "execution_count": 55,
   "outputs": [],
   "source": [
    "# salaries.experience_level.unique()"
   ],
   "metadata": {
    "collapsed": false,
    "ExecuteTime": {
     "end_time": "2024-05-07T15:06:52.500718900Z",
     "start_time": "2024-05-07T15:06:52.159683400Z"
    }
   },
   "id": "2e9c38daad51e7dd"
  },
  {
   "cell_type": "markdown",
   "source": [
    "\\begin{equation}\n",
    "C(n, 2) = \\frac{{n \\cdot (n - 1)}}{2}\n",
    "\\end{equation}\n",
    "possible Connections"
   ],
   "metadata": {
    "collapsed": false
   },
   "id": "1fce8ac7f3b7a7d8"
  },
  {
   "cell_type": "code",
   "execution_count": 52,
   "outputs": [
    {
     "name": "stdout",
     "output_type": "stream",
     "text": [
      "183921.0\n"
     ]
    }
   ],
   "source": [
    "n_permutes = lambda n : (n * (n-1)) / 2\n",
    "print(n_permutes(salaries.shape[0]))"
   ],
   "metadata": {
    "collapsed": false,
    "ExecuteTime": {
     "end_time": "2024-05-07T15:02:24.226170300Z",
     "start_time": "2024-05-07T15:02:24.196817900Z"
    }
   },
   "id": "307491630964d1c5"
  },
  {
   "cell_type": "code",
   "execution_count": 79,
   "outputs": [],
   "source": [
    "idx = salaries.index\n",
    "idx_pairs = list(itertools.combinations(idx, 2))\n",
    "\n",
    "salary = salaries.salary_in_usd\n",
    "salary_pairs = list(itertools.combinations(salary, 2))\n",
    "salary_delta = [abs(pair[0] - pair[1]) for pair in salary_pairs]\n",
    "\n",
    "residence = salaries.employee_residence\n",
    "residence_pairs = list(itertools.combinations(residence, 2))\n",
    "fellow_country = [int(pair[0] == pair[1] )for pair in residence_pairs]\n",
    "\n",
    "residence = salaries.experience_level\n",
    "experience_pairs = list(itertools.combinations(residence, 2))\n",
    "same_experience = [int(pair[0] == pair[1] )for pair in experience_pairs]\n",
    "\n",
    "title = salaries.experience_level\n",
    "title_pairs = list(itertools.combinations(residence, 2))\n",
    "same_title = [int(pair[0] == pair[1] )for pair in title_pairs]\n",
    "\n",
    "df = pd.DataFrame({'idx': idx_pairs, \n",
    "                   'salary_delta': salary_delta,\n",
    "                   'fellow_country': fellow_country, \n",
    "                   'same_title': same_title, \n",
    "                   'same_experience': same_experience\n",
    "                   })"
   ],
   "metadata": {
    "collapsed": false,
    "ExecuteTime": {
     "end_time": "2024-05-07T15:23:41.044526100Z",
     "start_time": "2024-05-07T15:23:40.138357500Z"
    }
   },
   "id": "dc103f843b322c83"
  },
  {
   "cell_type": "code",
   "execution_count": 80,
   "outputs": [],
   "source": [],
   "metadata": {
    "collapsed": false,
    "ExecuteTime": {
     "end_time": "2024-05-07T15:23:55.258972200Z",
     "start_time": "2024-05-07T15:23:55.220741800Z"
    }
   },
   "id": "248e6b29a06b4ab7"
  },
  {
   "cell_type": "code",
   "execution_count": null,
   "outputs": [],
   "source": [
    "# I want to create synthetic target variables from the sigmoid function. Let's take two variables. A dummy variable that is 1, if both persons are in the same country and 0 otherwise, called \"countrymen\". The second variable is \"wagedelta\", a numeric variable indicating the abs difference of the wages between both persons. The target represents wheter these two persons form a connection or not. We have the formula and our x variables, we only need some coefficients, that are interpretable. Like how should beta for countrymen be, if i want fellow countrymen to form a connection twice as likely as non fellows\n"
   ],
   "metadata": {
    "collapsed": false
   },
   "id": "10ce2f9d3f3ccc29"
  },
  {
   "cell_type": "markdown",
   "source": [
    "\\begin{equation}\n",
    "P(y=1|x) = \\frac{1}{1 + e^{-(\\beta_0 + \\beta_{equalexper}x_{equalexper} + \\beta_{wagedelta}x_{wagedelta} + \\ldots + \\beta_nx_n)}}\n",
    "\\end{equation}"
   ],
   "metadata": {
    "collapsed": false
   },
   "id": "305ca7fdb628dc30"
  },
  {
   "cell_type": "code",
   "execution_count": null,
   "outputs": [],
   "source": [],
   "metadata": {
    "collapsed": false
   },
   "id": "a18780f251fb4b27"
  },
  {
   "cell_type": "code",
   "execution_count": 90,
   "outputs": [
    {
     "name": "stderr",
     "output_type": "stream",
     "text": [
      "C:\\Users\\zogaj\\PycharmProjects\\MA\\venv\\lib\\site-packages\\pandas\\core\\arraylike.py:399: RuntimeWarning: overflow encountered in exp\n",
      "  result = getattr(ufunc, method)(*inputs, **kwargs)\n"
     ]
    },
    {
     "data": {
      "text/plain": "<Figure size 640x480 with 1 Axes>",
      "image/png": "[encoded data removed]"
     },
     "metadata": {},
     "output_type": "display_data"
    },
    {
     "data": {
      "text/plain": "<Axes: >"
     },
     "execution_count": 90,
     "metadata": {},
     "output_type": "execute_result"
    },
    {
     "data": {
      "text/plain": "<Figure size 640x480 with 1 Axes>",
      "image/png": "[encoded data removed]"
     },
     "metadata": {},
     "output_type": "display_data"
    }
   ],
   "source": [
    "beta_0 = -20000  # Intercept\n",
    "beta_1 = np.log(1.2)  # Coefficient for countrymen\n",
    "beta_2 = 0.00000005  # Coefficient for wagedelta\n",
    "\n",
    "# Calculate log odds\n",
    "log_odds = beta_0 + beta_1 * df.salary_delta + beta_2 * df.fellow_country\n",
    "probability = 1 / (1 + np.exp(-log_odds))\n",
    "\n",
    "hist, bins = np.histogram(log_odds, bins=20)  # Adjust the number of bins as needed\n",
    "\n",
    "# Plot the histogram\n",
    "plt.hist(log_odds, bins=bins, edgecolor='black')\n",
    "plt.xlabel('Value')\n",
    "plt.ylabel('Frequency')\n",
    "plt.grid(True)\n",
    "plt.show()\n",
    "\n",
    "probability.hist(bins = 100)"
   ],
   "metadata": {
    "collapsed": false,
    "ExecuteTime": {
     "end_time": "2024-05-07T15:29:12.113477Z",
     "start_time": "2024-05-07T15:29:11.078191700Z"
    }
   },
   "id": "cd04ab796542118b"
  }
 ],
 "metadata": {
  "kernelspec": {
   "display_name": "Python 3",
   "language": "python",
   "name": "python3"
  },
  "language_info": {
   "codemirror_mode": {
    "name": "ipython",
    "version": 2
   },
   "file_extension": ".py",
   "mimetype": "text/x-python",
   "name": "python",
   "nbconvert_exporter": "python",
   "pygments_lexer": "ipython2",
   "version": "2.7.6"
  }
 },
 "nbformat": 4,
 "nbformat_minor": 5
}
