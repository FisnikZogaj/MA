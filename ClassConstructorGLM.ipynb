{
 "cells": [
  {
   "cell_type": "code",
   "execution_count": 2,
   "id": "initial_id",
   "metadata": {
    "collapsed": true,
    "ExecuteTime": {
     "end_time": "2024-06-03T08:17:12.997667Z",
     "start_time": "2024-06-03T08:16:57.000993400Z"
    }
   },
   "outputs": [],
   "source": [
    "import numpy as np \n",
    "from sklearn.mixture import GaussianMixture\n",
    "import itertools\n",
    "import pandas as pd \n",
    "import torch\n",
    "import networkx as nx "
   ]
  },
  {
   "cell_type": "code",
   "execution_count": 67,
   "outputs": [],
   "source": [
    "class GLMGraph:\n",
    "    \"\"\"\n",
    "    Generate a Graph with conditional edge distribution modeled via GLM's.\n",
    "    Graph should have: x, y: Node features and target  \n",
    "    edge_index: all edges in the graph \n",
    "    pos_edge_label_index: A subset of edge index (typically half)\n",
    "    neg_edge_label_index: A subset of all non-existing edges (same length as pos_edge_label_index)\n",
    "    No Edge Attributes considered. \n",
    "    \"\"\"\n",
    "    def __init__(self, n_nodes:int):\n",
    "        \n",
    "        self.Graph = None # an NetworkX representation \n",
    "        self.n_nodes = n_nodes\n",
    "        \n",
    "        self.num_features = None \n",
    "        self.cat_features = None \n",
    "        self.x = None\n",
    "        self.y = None\n",
    "        self.long_data = None\n",
    "        \n",
    "        self.edge_index = None\n",
    "        self.edge_pos_edge_label_index = None\n",
    "        self.edge_neg_edge_label_index= None\n",
    "        \n",
    "    def add_num_features(self, n_c:int, mu:list, sigma:list, w:list):\n",
    "        \"\"\"\n",
    "        :param n_c: number of cluster components \n",
    "        :param mu: list of tuples corresponding to \n",
    "        num of features (tuple-length) and number of components (list-length) \n",
    "        :param sigma: Covariance matrix \n",
    "        :param w: mixture weights \n",
    "        :return: None \n",
    "        \n",
    "        Add numeric features. Only used within the class. \n",
    "        \"\"\"\n",
    "\n",
    "        gmm = GaussianMixture(n_components=n_c, covariance_type='full') \n",
    "        # 'full': each component has its own general covariance matrix.\n",
    "        gmm.means_ = np.array(mu)\n",
    "        gmm.covariances_ = np.array(sigma)\n",
    "        gmm.weights_ = np.array(w)\n",
    "        gmm.precisions_cholesky_ = np.linalg.cholesky(np.linalg.inv(covariances))\n",
    "        \n",
    "        data, _ = gmm.sample(self.n_nodes)\n",
    "        \n",
    "        self.num_features = data\n",
    "        \n",
    "        \n",
    "    def add_cat_features(self,k:list, p:list):\n",
    "        \"\"\"\n",
    "        :param k: k classes (per features) --> like: [2,3,2]\n",
    "        :param p: proportions (per feature) --> like: [[0.5,0.5], [0.1,0.4,0.5], [0.3,0.7]]\n",
    "        :return: None\n",
    "        pd.get_dummies(df['category'])\n",
    "        \"\"\"\n",
    "        n = self.n_nodes\n",
    "        m = len(k)\n",
    "        data = np.zeros((n, m)) \n",
    "        \n",
    "        for i in range(m):\n",
    "            col_i = np.random.choice(np.arange(k[i]),\n",
    "                                     size=n,\n",
    "                                     p=p[i])\n",
    "            data[:, i] = col_i\n",
    "        self.cat_features = data\n",
    "    \n",
    "    def set_x(self):\n",
    "        if self.cat_features is not None:\n",
    "            self.x =  np.concatenate((self.num_features, self.cat_features), axis=1)\n",
    "        else:\n",
    "            self.x = self.num_features\n",
    "        \n",
    "    def set_y(self,theta:list, eps:float, binary=False, treshhold=0.5):\n",
    "        \"\"\"\n",
    "        :param theta: model params (no intercept)\n",
    "        :param eps: variance of linear relationship \n",
    "        :param binary: if y should be binary target\n",
    "        :return: None\n",
    "        \"\"\"\n",
    "        lin_rel = np.dot(self.x, theta) + np.random.normal(0,eps,self.n_nodes)\n",
    "        if binary:\n",
    "            y = (1 / (1 + np.exp(-lin_rel))) >= treshhold\n",
    "        else: \n",
    "            y = lin_rel\n",
    "        self.y = y\n",
    "        \n",
    "\n",
    "    def set_connections(self, intercept, theta, eps, treshhold):\n",
    "        \"\"\"\n",
    "        :param intercept: Base connectivity, should center the log_odds around 0\n",
    "        :param theta: Model params (similar nodes should have higher coefficients)\n",
    "        :param eps: model variance \n",
    "        :param treshhold: either a number or an array of uniform (0,1) distributed numbers of len(n_nodes) \n",
    "        \"\"\"\n",
    "        n_rows = int((self.n_nodes * (self.n_nodes-1)) / 2) # all permutations\n",
    "        if self.cat_features is not None:\n",
    "            m_cols = self.cat_features.shape[1] + self.num_features.shape[1]\n",
    "        \n",
    "        else:\n",
    "            m_cols = self.num_features.shape[1]\n",
    "            long = np.zeros((n_rows, m_cols)) \n",
    "        \n",
    "            idx = list(range(self.n_nodes))\n",
    "            idx_pairs = list(itertools.combinations(idx, 2))\n",
    "\n",
    "            for i in range(m_cols):\n",
    "                xi_pairs = list(itertools.combinations(self.x[:,i], 2))\n",
    "                xi_delta = [abs(pair[0] - pair[1]) for pair in xi_pairs]\n",
    "                long[:,i] = xi_delta\n",
    "            \n",
    "            colnames = [f\"x{i+1}_delta\" for i in range(m_cols)]\n",
    "            df = pd.DataFrame(long,columns=colnames)\n",
    "            df.index = idx_pairs\n",
    "            \n",
    "        log_odds = intercept + np.dot(df, theta) + np.random.normal(0,eps,self.n_nodes)\n",
    "        df[\"Connections\"] = 1 / (1 + np.exp(-log_odds)) >= treshhold\n",
    "        \n",
    "        self.long_data = df"
   ],
   "metadata": {
    "collapsed": false,
    "ExecuteTime": {
     "end_time": "2024-06-03T10:01:26.947615900Z",
     "start_time": "2024-06-03T10:01:26.917979800Z"
    }
   },
   "id": "972ddfc0fa7c81ae"
  },
  {
   "cell_type": "code",
   "execution_count": 56,
   "outputs": [
    {
     "data": {
      "text/plain": "['idx', 'x1_delta', 'x2_delta', 'x3_delta']"
     },
     "execution_count": 56,
     "metadata": {},
     "output_type": "execute_result"
    }
   ],
   "source": [],
   "metadata": {
    "collapsed": false,
    "ExecuteTime": {
     "end_time": "2024-06-03T09:44:48.534254800Z",
     "start_time": "2024-06-03T09:44:48.493210800Z"
    }
   },
   "id": "e6fee24840142d1f"
  },
  {
   "cell_type": "raw",
   "source": [
    "    def to_nx(self):\n",
    "        \"\"\"\n",
    "        \n",
    "        :return: \n",
    "        \"\"\"\n",
    "        node_idx = list(range(self.n_nodes))\n",
    "        G = nx.Graph()\n",
    "        G.add_nodes_from(node_idx,\n",
    "                     size = 0)\n",
    "    \n",
    "        G.add_edges_from(df_long[df_long['Connection_Prob'] > \n",
    "                          np.random.uniform(0,1,\n",
    "                          df_long.shape[0])]['idx']\n",
    "                          )\n",
    "        return G\n",
    "    \n",
    "    def _get_edge_index(self):\n",
    "        \"\"\"\n",
    "        :param Graph: A NetworkX graph \n",
    "        :return: \n",
    "        tensor([[ 1,  1,  1, 48],\n",
    "                [ 2,  9, 10, 49]])\n",
    "        \"\"\"\n",
    "        edge_list = list(Graph.edges())\n",
    "        edge_index = torch.tensor(edge_list, dtype=torch.long).t().contiguous()\n",
    "        return edge_index\n",
    "    \n",
    "    def _get_pos_edge_label_index(self, edge_index):\n",
    "        pass\n",
    "    \n",
    "    def _get_neg_edge_label_index(self, Graph):\n",
    "        pass\n"
   ],
   "metadata": {
    "collapsed": false
   },
   "id": "683abcafba6715f0"
  },
  {
   "cell_type": "code",
   "execution_count": 23,
   "outputs": [],
   "source": [
    "means = [(-2, -2),\n",
    "         (0, 0),\n",
    "         (3, 3)]\n",
    "    \n",
    "covariances = [np.array([[0.5, 0.1],\n",
    "                         [0.1, 0.5]]),\n",
    "               np.array([[0.8, -0.2],\n",
    "                         [-0.2, 0.8]]),\n",
    "               np.array([[0.3, 0.1],\n",
    "                         [0.1, 0.3]])]\n",
    "    \n",
    "weights = [0.3, 0.4, 0.3]\n",
    "\n",
    "k = [2,3,2]\n",
    "p = [[0.5,0.5], [0.1,0.4,0.5], [0.3,0.7]]"
   ],
   "metadata": {
    "collapsed": false,
    "ExecuteTime": {
     "end_time": "2024-06-03T08:49:20.874261300Z",
     "start_time": "2024-06-03T08:49:20.838364400Z"
    }
   },
   "id": "6706afcd7e756b81"
  },
  {
   "cell_type": "code",
   "execution_count": 69,
   "outputs": [
    {
     "name": "stdout",
     "output_type": "stream",
     "text": [
      "None\n",
      "200\n"
     ]
    },
    {
     "data": {
      "text/plain": "            x1_delta  x2_delta\n(0, 1)      0.287287  0.904842\n(0, 2)      0.080666  0.543363\n(0, 3)      1.153828  2.548837\n(0, 4)      1.806862  0.888759\n(0, 5)      1.567002  0.991068\n...              ...       ...\n(196, 198)  0.111928  0.910076\n(196, 199)  0.029981  0.049185\n(197, 198)  0.095352  0.333752\n(197, 199)  0.046558  0.527138\n(198, 199)  0.141910  0.860891\n\n[19900 rows x 2 columns]",
      "text/html": "<div>\n<style scoped>\n    .dataframe tbody tr th:only-of-type {\n        vertical-align: middle;\n    }\n\n    .dataframe tbody tr th {\n        vertical-align: top;\n    }\n\n    .dataframe thead th {\n        text-align: right;\n    }\n</style>\n<table border=\"1\" class=\"dataframe\">\n  <thead>\n    <tr style=\"text-align: right;\">\n      <th></th>\n      <th>x1_delta</th>\n      <th>x2_delta</th>\n    </tr>\n  </thead>\n  <tbody>\n    <tr>\n      <th>(0, 1)</th>\n      <td>0.287287</td>\n      <td>0.904842</td>\n    </tr>\n    <tr>\n      <th>(0, 2)</th>\n      <td>0.080666</td>\n      <td>0.543363</td>\n    </tr>\n    <tr>\n      <th>(0, 3)</th>\n      <td>1.153828</td>\n      <td>2.548837</td>\n    </tr>\n    <tr>\n      <th>(0, 4)</th>\n      <td>1.806862</td>\n      <td>0.888759</td>\n    </tr>\n    <tr>\n      <th>(0, 5)</th>\n      <td>1.567002</td>\n      <td>0.991068</td>\n    </tr>\n    <tr>\n      <th>...</th>\n      <td>...</td>\n      <td>...</td>\n    </tr>\n    <tr>\n      <th>(196, 198)</th>\n      <td>0.111928</td>\n      <td>0.910076</td>\n    </tr>\n    <tr>\n      <th>(196, 199)</th>\n      <td>0.029981</td>\n      <td>0.049185</td>\n    </tr>\n    <tr>\n      <th>(197, 198)</th>\n      <td>0.095352</td>\n      <td>0.333752</td>\n    </tr>\n    <tr>\n      <th>(197, 199)</th>\n      <td>0.046558</td>\n      <td>0.527138</td>\n    </tr>\n    <tr>\n      <th>(198, 199)</th>\n      <td>0.141910</td>\n      <td>0.860891</td>\n    </tr>\n  </tbody>\n</table>\n<p>19900 rows × 2 columns</p>\n</div>"
     },
     "execution_count": 69,
     "metadata": {},
     "output_type": "execute_result"
    }
   ],
   "source": [
    "gglm = GLMGraph(200)\n",
    "print(gglm.x)\n",
    "print(gglm.n_nodes)\n",
    "gglm.add_num_features(n_c=3,mu=means,sigma=covariances,w=weights)\n",
    "#gglm.add_cat_features(k, p)\n",
    "gglm.set_x()\n",
    "gglm.x\n",
    "gglm.set_y([1.5,3], 3)\n",
    "gglm.y\n",
    "gglm.set_long_data()\n",
    "gglm.long_data"
   ],
   "metadata": {
    "collapsed": false,
    "ExecuteTime": {
     "end_time": "2024-06-03T10:01:44.109204400Z",
     "start_time": "2024-06-03T10:01:43.997401400Z"
    }
   },
   "id": "2095c301f6f6bce5"
  },
  {
   "cell_type": "code",
   "execution_count": 75,
   "outputs": [
    {
     "data": {
      "text/plain": "array([[10.07495222],\n       [10.60603541],\n       [10.41095196],\n       [10.24719507],\n       [10.99194585],\n       [10.01317074],\n       [10.72772855],\n       [10.59346321],\n       [10.81425776],\n       [10.62147479],\n       [10.9041581 ],\n       [10.80165151],\n       [10.39554083],\n       [10.00366738],\n       [10.53116226],\n       [10.74152619],\n       [10.26447715],\n       [10.41329595],\n       [10.15711723],\n       [10.0427239 ],\n       [10.04245299],\n       [10.70145842],\n       [10.01929727],\n       [10.62639541],\n       [10.25434541],\n       [10.53406624],\n       [10.96856425],\n       [10.71122887],\n       [10.08516683],\n       [10.74254962],\n       [10.40829581],\n       [10.84644035],\n       [10.17328457],\n       [10.26356332],\n       [10.70583841],\n       [10.91114059],\n       [10.95856984],\n       [10.19627601],\n       [10.26792431],\n       [10.82269163],\n       [10.71372588],\n       [10.34994062],\n       [10.75745653],\n       [10.05445128],\n       [10.80194172],\n       [10.08112974],\n       [10.49284494],\n       [10.37575824],\n       [10.96209595],\n       [10.61910479],\n       [10.51929161],\n       [10.26019797],\n       [10.10348365],\n       [10.26436943],\n       [10.69066589],\n       [10.22303184],\n       [10.66516669],\n       [10.46082935],\n       [10.97832141],\n       [10.84818781],\n       [10.62590591],\n       [10.0948893 ],\n       [10.78003575],\n       [10.41984923],\n       [10.36405368],\n       [10.88757354],\n       [10.69387932],\n       [10.47204286],\n       [10.35697946],\n       [10.26779432],\n       [10.21940147],\n       [10.71835976],\n       [10.273278  ],\n       [10.39851845],\n       [10.25586366],\n       [10.70648866],\n       [10.49034371],\n       [10.17977114],\n       [10.54125647],\n       [10.31209293],\n       [10.62920226],\n       [10.75055938],\n       [10.89359475],\n       [10.25021805],\n       [10.25111569],\n       [10.09965149],\n       [10.22473394],\n       [10.55987266],\n       [10.66264579],\n       [10.81738769],\n       [10.13028401],\n       [10.52405985],\n       [10.07828487],\n       [10.78017741],\n       [10.37504191],\n       [10.17734465],\n       [10.67374241],\n       [10.97406752],\n       [10.42228792],\n       [10.66855451]])"
     },
     "execution_count": 75,
     "metadata": {},
     "output_type": "execute_result"
    }
   ],
   "source": [
    "np.random.rand(100, 1) + 10\n"
   ],
   "metadata": {
    "collapsed": false,
    "ExecuteTime": {
     "end_time": "2024-06-03T10:15:01.577740700Z",
     "start_time": "2024-06-03T10:15:01.512106Z"
    }
   },
   "id": "c7213e19a1b2c5e9"
  }
 ],
 "metadata": {
  "kernelspec": {
   "display_name": "Python 3",
   "language": "python",
   "name": "python3"
  },
  "language_info": {
   "codemirror_mode": {
    "name": "ipython",
    "version": 2
   },
   "file_extension": ".py",
   "mimetype": "text/x-python",
   "name": "python",
   "nbconvert_exporter": "python",
   "pygments_lexer": "ipython2",
   "version": "2.7.6"
  }
 },
 "nbformat": 4,
 "nbformat_minor": 5
}
