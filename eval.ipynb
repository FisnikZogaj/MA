{
 "cells": [
  {
   "cell_type": "code",
   "id": "initial_id",
   "metadata": {
    "collapsed": true,
    "ExecuteTime": {
     "end_time": "2024-07-11T09:22:48.938579Z",
     "start_time": "2024-07-11T09:22:48.907310Z"
    }
   },
   "source": [
    "import pickle\n",
    "import numpy as np\n",
    "from matplotlib import pyplot\n",
    "import os "
   ],
   "outputs": [],
   "execution_count": 2
  },
  {
   "metadata": {
    "ExecuteTime": {
     "end_time": "2024-07-11T09:27:33.211125Z",
     "start_time": "2024-07-11T09:27:33.200654Z"
    }
   },
   "cell_type": "code",
   "source": [
    "def get_ordered_subdirectories(directory):\n",
    "    entries = os.listdir(directory)\n",
    "    subdirs = [os.path.join(directory, entry) for entry in entries if os.path.isdir(os.path.join(directory, entry))]\n",
    "    subdirs.sort()\n",
    "    \n",
    "    return subdirs\n",
    "\n",
    "base = os.path.join(os.getcwd(),\"ExperimentLogs\")\n",
    "ordered_subdirs = get_ordered_subdirectories(base)\n",
    "last_exp = ordered_subdirs[-1]"
   ],
   "id": "4f37a927319f5945",
   "outputs": [],
   "execution_count": 7
  },
  {
   "metadata": {
    "ExecuteTime": {
     "end_time": "2024-07-11T09:34:20.487398Z",
     "start_time": "2024-07-11T09:34:20.475579Z"
    }
   },
   "cell_type": "code",
   "source": [
    "#os.path.join(last_exp,\"GAT\\\\noise\")\n",
    "def load_all_pickles(directory):\n",
    "    \"\"\"\n",
    "    Iterates over all pickle files in the specified directory and loads them.\n",
    "    \n",
    "    :param directory: Path to the directory containing the pickle files\n",
    "    :return: A list of loaded objects from the pickle files\n",
    "    \"\"\"\n",
    "    loaded_objects = []\n",
    "    \n",
    "    # Iterate over all files in the directory\n",
    "    for filename in os.listdir(directory):\n",
    "        if filename[0] == \"o\":\n",
    "            file_path = os.path.join(directory, filename)\n",
    "            with open(file_path, 'rb') as file:\n",
    "                loaded_objects.append(pickle.load(file))\n",
    "    \n",
    "    return loaded_objects\n",
    "\n",
    "# Example usage\n",
    "directory = \"C:\\\\Users\\\\zogaj\\\\PycharmProjects\\\\MA\\\\ExperimentLogs\\\\2024-07-11-11-13-09\\\\GAT\\\\noise\"\n",
    "loaded_pickles = load_all_pickles(directory)"
   ],
   "id": "4715b6551107e017",
   "outputs": [],
   "execution_count": 10
  },
  {
   "metadata": {
    "ExecuteTime": {
     "end_time": "2024-07-11T09:34:50.568001Z",
     "start_time": "2024-07-11T09:34:50.540491Z"
    }
   },
   "cell_type": "code",
   "source": "loaded_pickles[0][\"loss_track\"]",
   "id": "597b5e908f32ea25",
   "outputs": [
    {
     "data": {
      "text/plain": [
       "array([2.02998042, 1.41852438, 1.39204419, 1.31531703, 1.20612299,\n",
       "       1.20669365, 1.12484682, 1.1321497 , 1.09862447, 1.07937634,\n",
       "       1.10494614, 1.06363261, 1.02589977, 1.04229546, 1.08390522,\n",
       "       1.02463806, 1.03297889, 1.0350641 , 1.01535451, 1.02636027,\n",
       "       1.01915419, 1.00153422, 1.00339007, 0.99987787, 1.0064286 ,\n",
       "       0.98246872, 1.00173914, 0.9849081 , 0.98931998, 0.99191105,\n",
       "       0.99778223, 0.98428917, 0.9940837 , 0.97923619, 0.9704057 ,\n",
       "       0.97000486, 0.96668464, 0.96117824, 0.95951152, 0.95576918,\n",
       "       0.96219987, 0.95950383, 0.96747845, 0.96153843, 0.95609909,\n",
       "       0.95465004, 0.98359883, 0.94773668, 0.94558352, 0.93741739,\n",
       "       0.93736589, 0.92459059, 0.93275154, 0.92506027, 0.91941291,\n",
       "       0.93670273, 0.90789938, 0.90394163, 0.91757435, 0.90958983,\n",
       "       0.91266453, 0.91159058, 0.90419418, 0.92951578, 0.89315844,\n",
       "       0.90279442, 0.90315163, 0.89916235, 0.89566064, 0.91360581,\n",
       "       0.90632498, 0.89488786, 0.89725393, 0.8822543 , 0.89805359,\n",
       "       0.90239322, 0.88474292, 0.89249998, 0.88041103, 0.92561066,\n",
       "       0.88211292, 0.88876665, 0.89917076, 0.88981062, 0.90105152,\n",
       "       0.88138312, 0.86949086, 0.89406735, 0.88938022, 0.87536097,\n",
       "       0.87889653, 0.88965786, 0.87905252, 0.87239575, 0.87886304,\n",
       "       0.89716768, 0.87218857, 0.90335387, 0.88096434, 0.87077713])"
      ]
     },
     "execution_count": 13,
     "metadata": {},
     "output_type": "execute_result"
    }
   ],
   "execution_count": 13
  }
 ],
 "metadata": {
  "kernelspec": {
   "display_name": "Python 3",
   "language": "python",
   "name": "python3"
  },
  "language_info": {
   "codemirror_mode": {
    "name": "ipython",
    "version": 2
   },
   "file_extension": ".py",
   "mimetype": "text/x-python",
   "name": "python",
   "nbconvert_exporter": "python",
   "pygments_lexer": "ipython2",
   "version": "2.7.6"
  }
 },
 "nbformat": 4,
 "nbformat_minor": 5
}
