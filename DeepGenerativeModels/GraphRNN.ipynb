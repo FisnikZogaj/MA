{
 "cells": [
  {
   "cell_type": "markdown",
   "source": [
    "**Need to model two processes:**\n",
    "\n",
    "1) Node-level RNN generates the initial state \n",
    "for edge-level RNN\n",
    "2)  Edge-level RNN generates edges for the new \n",
    "node, then updates node-level RNN state \n",
    "using generated results"
   ],
   "metadata": {
    "collapsed": false
   },
   "id": "321f1112464ee08a"
  },
  {
   "cell_type": "code",
   "execution_count": null,
   "outputs": [],
   "source": [],
   "metadata": {
    "collapsed": false
   },
   "id": "ff273b160d5c114e"
  }
 ],
 "metadata": {
  "kernelspec": {
   "display_name": "Python 3",
   "language": "python",
   "name": "python3"
  },
  "language_info": {
   "codemirror_mode": {
    "name": "ipython",
    "version": 2
   },
   "file_extension": ".py",
   "mimetype": "text/x-python",
   "name": "python",
   "nbconvert_exporter": "python",
   "pygments_lexer": "ipython2",
   "version": "2.7.6"
  }
 },
 "nbformat": 4,
 "nbformat_minor": 5
}
