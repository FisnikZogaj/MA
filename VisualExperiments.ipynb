{
 "cells": [
  {
   "cell_type": "code",
   "id": "initial_id",
   "metadata": {
    "collapsed": true,
    "ExecuteTime": {
     "end_time": "2024-07-02T15:07:31.066941Z",
     "start_time": "2024-07-02T15:07:16.939524Z"
    }
   },
   "source": [
    "import matplotlib.pyplot as plt\n",
    "\n",
    "from ParametricGraphModels.ADC_SBM import *"
   ],
   "outputs": [],
   "execution_count": 1
  },
  {
   "metadata": {
    "ExecuteTime": {
     "end_time": "2024-07-02T15:07:45.871882Z",
     "start_time": "2024-07-02T15:07:44.159438Z"
    }
   },
   "cell_type": "code",
   "source": [
    "# 1) ----------------- Set Params -----------------\n",
    "community_sizes = [90, 140, 210, 160] # 4 communities; fixed\n",
    "n = sum(community_sizes)  # number of nodes (observations)\n",
    "b_communities = len(community_sizes)  # number of communities\n",
    "m_features = 6  # number of numeric features; fixed\n",
    "k_clusters = 6  # number of feature clusters; Overlap Scenario (over, under, match) 3,5,4\n",
    "alpha, beta, lmbd = 2, 20, .5 # degree_correction params; fixed\n",
    "br, wr = (.05, .1), (.4, .5) # assortative and dis-assortative\n",
    "\n",
    "# 2) ------- Instantiate Class Object (Note: No graspy calles yet!) ---------\n",
    "B = getB(m=b_communities,\n",
    "         b_range=br,\n",
    "         w_range=wr)  # get Connection Matrix\n",
    "\n",
    "g = ADC_SBM(community_sizes=community_sizes, B=B)  # instantiate class\n",
    "\n",
    "# 3) ----------------- Generate the actual Graph -----------------\n",
    "g.correct_degree(alpha=alpha, beta=beta, lmbd=lmbd, distribution=\"exp\")\n",
    "g.gen_graph()\n",
    "\n",
    "# 4) ----------------- Generate Node Features -----------------\n",
    "# Generate \"k\" centroids with \"m\" features\n",
    "centroids = np.random.multivariate_normal(np.repeat(0, m_features),  # mu\n",
    "                                     getB(m_features,\n",
    "                                          (0, 0),  # Covariance\n",
    "                                          (3, 4.5)),  # Variance (relevant for cluster separation)\n",
    "                                     k_clusters)  # n\n",
    "# centroids will be an array of size kxm\n",
    "# if the centroid variance is low and within-variance high,\n",
    "# separation becomes harder, and easier if it's the other way around !\n",
    "\n",
    "g.set_x(n_c=k_clusters,  # number of clusters\n",
    "        mu=[tuple(point) for point in centroids],  # k tuple of coordinates in m-dimensional space\n",
    "        sigma=[getB(m_features, (0, 0), # Covariance\n",
    "                                (0.5, 1)) # Variance (relevant for cluster separation)\n",
    "               for _ in range(k_clusters)],\n",
    "        # similar covariance matrix for each centroid\n",
    "        #w=np.random.dirichlet(np.ones(k_clusters), size=1).flatten()\n",
    "        w=np.full(k_clusters, n/k_clusters, dtype=np.int64)\n",
    "        )"
   ],
   "id": "1830ade0d06de3b2",
   "outputs": [],
   "execution_count": 2
  },
  {
   "metadata": {
    "ExecuteTime": {
     "end_time": "2024-07-02T15:07:48.417931Z",
     "start_time": "2024-07-02T15:07:48.385288Z"
    }
   },
   "cell_type": "code",
   "source": [
    "# 5) ----------------- Generate Targets -----------------\n",
    "ny = 5  # number of target classes; fixed\n",
    "nf = m_features + 1 + b_communities # number of relevant features (community and degree considered!)\n",
    "\n",
    "omega = getW(ny, b_communities, m_features, w_degree=0, w_x= 0, w_com=10)\n",
    "g.set_y(task=\"multiclass\", weights=omega, distribution=\"normal\", eps=.01)"
   ],
   "id": "fed5dffa9aab0af5",
   "outputs": [],
   "execution_count": 3
  },
  {
   "metadata": {
    "ExecuteTime": {
     "end_time": "2024-07-02T14:51:31.212002Z",
     "start_time": "2024-07-02T14:51:31.196352Z"
    }
   },
   "cell_type": "code",
   "source": "# g.rich_plot_graph(ns=25,wdth=.2,alph=.05)",
   "id": "618d0b474217f155",
   "outputs": [],
   "execution_count": 33
  },
  {
   "metadata": {
    "ExecuteTime": {
     "end_time": "2024-07-02T15:21:10.803497Z",
     "start_time": "2024-07-02T15:21:09.363439Z"
    }
   },
   "cell_type": "code",
   "source": [
    "xlin = np.linspace(0, 10, num=100)\n",
    "res = np.zeros((b_communities, 100))\n",
    "for i,v in enumerate(xlin):\n",
    "    omega = getW(ny, b_communities, m_features, w_degree=0, w_x= 0, w_com=v)\n",
    "    g.set_y(task=\"multiclass\", weights=omega, distribution=\"normal\", eps=.01)\n",
    "    df = g.purity(group_by=\"Community\", metric=\"gini\", plot_it=False)\n",
    "    res[:,i] = df.to_numpy()\n",
    "    #print(df.to_numpy())"
   ],
   "id": "4b93ea005de13e1f",
   "outputs": [
    {
     "name": "stdout",
     "output_type": "stream",
     "text": [
      "Metric selected:  gini\n",
      "Metric selected:  gini\n",
      "Metric selected:  gini\n",
      "Metric selected:  gini\n",
      "Metric selected:  gini\n",
      "Metric selected:  gini\n",
      "Metric selected:  gini\n",
      "Metric selected:  gini\n",
      "Metric selected:  gini\n",
      "Metric selected:  gini\n",
      "Metric selected:  gini\n",
      "Metric selected:  gini\n",
      "Metric selected:  gini\n",
      "Metric selected:  gini\n",
      "Metric selected:  gini\n",
      "Metric selected:  gini\n",
      "Metric selected:  gini\n",
      "Metric selected:  gini\n",
      "Metric selected:  gini\n",
      "Metric selected:  gini\n",
      "Metric selected:  gini\n",
      "Metric selected:  gini\n",
      "Metric selected:  gini\n",
      "Metric selected:  gini\n",
      "Metric selected:  gini\n",
      "Metric selected:  gini\n",
      "Metric selected:  gini\n",
      "Metric selected:  gini\n",
      "Metric selected:  gini\n",
      "Metric selected:  gini\n",
      "Metric selected:  gini\n",
      "Metric selected:  gini\n",
      "Metric selected:  gini\n",
      "Metric selected:  gini\n",
      "Metric selected:  gini\n",
      "Metric selected:  gini\n",
      "Metric selected:  gini\n",
      "Metric selected:  gini\n",
      "Metric selected:  gini\n",
      "Metric selected:  gini\n",
      "Metric selected:  gini\n",
      "Metric selected:  gini\n",
      "Metric selected:  gini\n",
      "Metric selected:  gini\n",
      "Metric selected:  gini\n",
      "Metric selected:  gini\n",
      "Metric selected:  gini\n",
      "Metric selected:  gini\n",
      "Metric selected:  gini\n",
      "Metric selected:  gini\n",
      "Metric selected:  gini\n",
      "Metric selected:  gini\n",
      "Metric selected:  gini\n",
      "Metric selected:  gini\n",
      "Metric selected:  gini\n",
      "Metric selected:  gini\n",
      "Metric selected:  gini\n",
      "Metric selected:  gini\n",
      "Metric selected:  gini\n",
      "Metric selected:  gini\n",
      "Metric selected:  gini\n",
      "Metric selected:  gini\n",
      "Metric selected:  gini\n",
      "Metric selected:  gini\n",
      "Metric selected:  gini\n",
      "Metric selected:  gini\n",
      "Metric selected:  gini\n",
      "Metric selected:  gini\n",
      "Metric selected:  gini\n",
      "Metric selected:  gini\n",
      "Metric selected:  gini\n",
      "Metric selected:  gini\n",
      "Metric selected:  gini\n",
      "Metric selected:  gini\n",
      "Metric selected:  gini\n",
      "Metric selected:  gini\n",
      "Metric selected:  gini\n",
      "Metric selected:  gini\n",
      "Metric selected:  gini\n",
      "Metric selected:  gini\n",
      "Metric selected:  gini\n",
      "Metric selected:  gini\n",
      "Metric selected:  gini\n",
      "Metric selected:  gini\n",
      "Metric selected:  gini\n",
      "Metric selected:  gini\n",
      "Metric selected:  gini\n",
      "Metric selected:  gini\n",
      "Metric selected:  gini\n",
      "Metric selected:  gini\n",
      "Metric selected:  gini\n",
      "Metric selected:  gini\n",
      "Metric selected:  gini\n",
      "Metric selected:  gini\n",
      "Metric selected:  gini\n",
      "Metric selected:  gini\n",
      "Metric selected:  gini\n",
      "Metric selected:  gini\n",
      "Metric selected:  gini\n",
      "Metric selected:  gini\n"
     ]
    }
   ],
   "execution_count": 32
  },
  {
   "metadata": {
    "ExecuteTime": {
     "end_time": "2024-07-02T15:21:13.471416Z",
     "start_time": "2024-07-02T15:21:13.140104Z"
    }
   },
   "cell_type": "code",
   "source": [
    "plt.plot(xlin, res.mean(axis=0))\n",
    "plt.show()"
   ],
   "id": "a79e159a12de4d08",
   "outputs": [
    {
     "data": {
      "text/plain": [
       "<Figure size 640x480 with 1 Axes>"
      ],
      "image/png": "[encoded data removed]"
     },
     "metadata": {},
     "output_type": "display_data"
    }
   ],
   "execution_count": 33
  }
 ],
 "metadata": {
  "kernelspec": {
   "display_name": "Python 3",
   "language": "python",
   "name": "python3"
  },
  "language_info": {
   "codemirror_mode": {
    "name": "ipython",
    "version": 2
   },
   "file_extension": ".py",
   "mimetype": "text/x-python",
   "name": "python",
   "nbconvert_exporter": "python",
   "pygments_lexer": "ipython2",
   "version": "2.7.6"
  }
 },
 "nbformat": 4,
 "nbformat_minor": 5
}
