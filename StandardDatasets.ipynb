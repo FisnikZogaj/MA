{
 "cells": [
  {
   "cell_type": "code",
   "execution_count": 42,
   "id": "initial_id",
   "metadata": {
    "collapsed": true,
    "ExecuteTime": {
     "end_time": "2024-05-27T08:39:46.428481300Z",
     "start_time": "2024-05-27T08:39:46.405757300Z"
    }
   },
   "outputs": [],
   "source": [
    "from torch_geometric.datasets import Planetoid\n",
    "from torch_geometric.transforms import NormalizeFeatures\n",
    "from torch_geometric.loader import DataLoader\n",
    "from torch_geometric.datasets import TUDataset\n",
    "from torch_geometric.datasets import Amazon\n",
    "from torch_geometric.utils import to_networkx\n",
    "import matplotlib.pyplot as plt\n",
    "import networkx as nx\n",
    "\n",
    "# Data from: \n",
    "# https://github.com/kimiyoung/planetoid/tree/master \n",
    "# https://github.com/shchur/gnn-benchmark/raw/master/data/npz\n",
    "# https://www.kaggle.com/datasets/alexandervc/protein-protein-interactions "
   ]
  },
  {
   "cell_type": "code",
   "execution_count": 11,
   "outputs": [],
   "source": [
    "Cora = Planetoid(root='data/Planetoid', name='Cora', transform=NormalizeFeatures())\n",
    "Citeseer = Planetoid(root='data/Planetoid', name='Citeseer', transform=NormalizeFeatures())\n",
    "Pubmed = Planetoid(root='data/Planetoid', name='Pubmed', transform=NormalizeFeatures())\n",
    "\n",
    "# PPI = TUDataset(root='data/PPI', name='PPI')\n",
    "# FileNotFoundError: https://www.chrsmrrs.com/graphkerneldatasets/PPI.zip\n"
   ],
   "metadata": {
    "collapsed": false,
    "ExecuteTime": {
     "end_time": "2024-05-27T07:59:03.366178100Z",
     "start_time": "2024-05-27T07:59:03.116055100Z"
    }
   },
   "id": "f28acf5161a9a7df"
  },
  {
   "cell_type": "code",
   "execution_count": 8,
   "outputs": [
    {
     "name": "stdout",
     "output_type": "stream",
     "text": [
      "Amazon-Computer Dataset: AmazonComputers()\n",
      "Number of graphs in Amazon-Computer dataset: 1\n",
      "Amazon-Photo Dataset: AmazonPhoto()\n",
      "Number of graphs in Amazon-Photo dataset: 1\n"
     ]
    }
   ],
   "source": [
    "dataset_computer = Amazon(root='data/Amazon', name='Computers')\n",
    "dataset_photo = Amazon(root='data/Amazon', name='Photo')\n",
    " \n",
    "print(\"Amazon-Computer Dataset:\", dataset_computer)\n",
    "print(\"Number of graphs in Amazon-Computer dataset:\", len(dataset_computer))\n",
    "print(\"Amazon-Photo Dataset:\", dataset_photo)\n",
    "print(\"Number of graphs in Amazon-Photo dataset:\", len(dataset_photo))"
   ],
   "metadata": {
    "collapsed": false,
    "ExecuteTime": {
     "end_time": "2024-05-13T12:46:55.384723200Z",
     "start_time": "2024-05-13T12:46:55.263391900Z"
    }
   },
   "id": "c284763c8c8255ec"
  },
  {
   "cell_type": "markdown",
   "source": [
    "## Mutag \n",
    "#### 188 small Graphs with \n",
    "1. Graph-Level Label (y):\n",
    "Each graph has a single label indicating whether the compound is mutagenic (1) or non-mutagenic (0).\n",
    "\n",
    "2. Node Features (x):\n",
    "Each node (atom) has a feature vector. Typically, in the MUTAG dataset, these features represent different atom types.\n",
    "\n",
    "3. Edge Indices (edge_index):\n",
    "These represent the connections (bonds) between nodes (atoms) in the graph. This is a tensor of shape [2, num_edges], where each column represents a pair of connected nodes."
   ],
   "metadata": {
    "collapsed": false
   },
   "id": "2abde223ba00a6c"
  },
  {
   "cell_type": "code",
   "execution_count": 3,
   "outputs": [
    {
     "name": "stderr",
     "output_type": "stream",
     "text": [
      "Downloading https://www.chrsmrrs.com/graphkerneldatasets/MUTAG.zip\n",
      "Processing...\n",
      "Done!\n"
     ]
    }
   ],
   "source": [
    "mutag = TUDataset(root='/tmp/MUTAG', name='MUTAG')"
   ],
   "metadata": {
    "collapsed": false,
    "ExecuteTime": {
     "end_time": "2024-05-27T07:55:59.632570700Z",
     "start_time": "2024-05-27T07:55:58.018330100Z"
    }
   },
   "id": "c771f60207d43f46"
  },
  {
   "cell_type": "code",
   "execution_count": 43,
   "outputs": [
    {
     "name": "stdout",
     "output_type": "stream",
     "text": [
      "tensor([[ 0,  0,  1,  1,  2,  2,  3,  3,  3,  4,  4,  4,  5,  5,  6,  6,  7,  7,\n",
      "          8,  8,  8,  9,  9,  9, 10, 10, 11, 11, 12, 12, 12, 13, 13, 14, 14, 14,\n",
      "         15, 16],\n",
      "        [ 1,  5,  0,  2,  1,  3,  2,  4,  9,  3,  5,  6,  0,  4,  4,  7,  6,  8,\n",
      "          7,  9, 13,  3,  8, 10,  9, 11, 10, 12, 11, 13, 14,  8, 12, 12, 15, 16,\n",
      "         14, 14]])\n",
      "17\n",
      "tensor([1])\n"
     ]
    }
   ],
   "source": [
    "graph = mutag[0]\n",
    "print(graph.edge_index)\n",
    "# array of two list: from -> second list: to \n",
    "print(graph.num_nodes)\n",
    "print(graph.y)"
   ],
   "metadata": {
    "collapsed": false,
    "ExecuteTime": {
     "end_time": "2024-05-27T08:41:18.987244800Z",
     "start_time": "2024-05-27T08:41:18.940372900Z"
    }
   },
   "id": "e61ab40f7aa1e189"
  },
  {
   "cell_type": "code",
   "execution_count": 51,
   "outputs": [
    {
     "data": {
      "text/plain": "Data(edge_index=[2, 22], x=[11, 7], edge_attr=[22, 4], y=[1])"
     },
     "execution_count": 51,
     "metadata": {},
     "output_type": "execute_result"
    }
   ],
   "source": [
    "loader = DataLoader(mutag, batch_size=4, shuffle=True)\n",
    "batch = next(iter(loader))"
   ],
   "metadata": {
    "collapsed": false,
    "ExecuteTime": {
     "end_time": "2024-05-27T08:44:24.766877100Z",
     "start_time": "2024-05-27T08:44:24.733445Z"
    }
   },
   "id": "2bde3cc865cc6143"
  },
  {
   "cell_type": "code",
   "execution_count": null,
   "outputs": [],
   "source": [
    "G = to_networkx(mutag[1], to_undirected=True)\n",
    "\n",
    "# Draw the graph\n",
    "plt.figure(figsize=(8, 8))\n",
    "nx.draw(G, with_labels=True, node_color='skyblue', edge_color='black', node_size=500, font_size=10)\n",
    "plt.show()"
   ],
   "metadata": {
    "collapsed": false
   },
   "id": "1be8fdd339701085"
  }
 ],
 "metadata": {
  "kernelspec": {
   "display_name": "Python 3",
   "language": "python",
   "name": "python3"
  },
  "language_info": {
   "codemirror_mode": {
    "name": "ipython",
    "version": 2
   },
   "file_extension": ".py",
   "mimetype": "text/x-python",
   "name": "python",
   "nbconvert_exporter": "python",
   "pygments_lexer": "ipython2",
   "version": "2.7.6"
  }
 },
 "nbformat": 4,
 "nbformat_minor": 5
}
